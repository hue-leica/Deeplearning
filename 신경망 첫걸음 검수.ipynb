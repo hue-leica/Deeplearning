{
 "cells": [
  {
   "cell_type": "code",
   "execution_count": 23,
   "metadata": {},
   "outputs": [
    {
     "name": "stdout",
     "output_type": "stream",
     "text": [
      "hidden_input\n",
      " [[1.16]\n",
      " [0.42]\n",
      " [0.62]]\n",
      "hidden_output\n",
      " [[0.76133271]\n",
      " [0.60348325]\n",
      " [0.65021855]]\n",
      "output_input\n",
      " [[0.97594736]\n",
      " [0.88858496]\n",
      " [1.25461119]]\n",
      "output_output\n",
      " [[0.72630335]\n",
      " [0.70859807]\n",
      " [0.77809706]]\n"
     ]
    }
   ],
   "source": [
    "#신경망 첫걸음 - 시그모이드값 및 최종 출력값 확인 p93\n",
    "import numpy\n",
    "import scipy.special\n",
    "\n",
    "activation_function = lambda x: scipy.special.expit(x)\n",
    "\n",
    "I = [[0.9],\n",
    "     [0.1],\n",
    "     [0.8]]\n",
    "W_input_hidden = [[0.9,0.3,0.4],\n",
    "                  [0.2,0.8,0.2],\n",
    "                  [0.1,0.5,0.6]]\n",
    "W_output_hidden = [[0.3,0.7,0.5],\n",
    "                  [0.6,0.5,0.2],\n",
    "                  [0.8,0.1,0.9]]\n",
    "\n",
    "hidden_input = numpy.dot(W_input_hidden, I)\n",
    "hidden_output = activation_function(hidden_input)\n",
    "\n",
    "output_input = numpy.dot(W_output_hidden, hidden_output)\n",
    "output_output = activation_function(output_input)\n",
    "\n",
    "print('hidden_input\\n',hidden_input)\n",
    "print('hidden_output\\n',hidden_output)\n",
    "print('output_input\\n',output_input)\n",
    "print('output_output\\n',output_output)\n"
   ]
  },
  {
   "cell_type": "code",
   "execution_count": 44,
   "metadata": {},
   "outputs": [
    {
     "name": "stdout",
     "output_type": "stream",
     "text": [
      "e1_hidden : 0.42000000000000004\n",
      "e2_hidden : 0.8800000000000001\n",
      "e1_input : 0.3620000000000001\n",
      "e2_input : 0.9380000000000002\n"
     ]
    }
   ],
   "source": [
    "#오차 역전파 값 확인 p105\n",
    "\n",
    "W_input_hidden = [[3.0,2.0],\n",
    "                  [1.0,7.0]]\n",
    "W_output_hidden = [[2.0,3.0],\n",
    "                  [1.0,4.0]]\n",
    "e1_output = 0.8\n",
    "e2_output = 0.5\n",
    "e_output = [[e1_output],\n",
    "            [e2_output]]\n",
    "#W_output_hidden = numpy.transpose(W_output_hidden)\n",
    "#e1_hidden = numpy.dot(numpy.transpose(W_output_hidden), e_output)\n",
    "e1_hidden = (e1_output*W_output_hidden[0][0]/(W_output_hidden[0][0] + W_output_hidden[0][1]))+ (e2_output*W_output_hidden[1][0]/(W_output_hidden[1][0] + W_output_hidden[1][1]))\n",
    "e2_hidden = (e1_output*W_output_hidden[0][1]/(W_output_hidden[0][0] + W_output_hidden[0][1]))+ (e2_output*W_output_hidden[1][1]/(W_output_hidden[1][0] + W_output_hidden[1][1]))\n",
    "\n",
    "e1_input =(e1_hidden*W_input_hidden[0][0]/(W_input_hidden[0][0] + W_input_hidden[0][1]))+ (e2_hidden*W_input_hidden[1][0]/(W_input_hidden[1][0] + W_input_hidden[1][1]))\n",
    "e2_input =(e1_hidden*W_input_hidden[0][1]/(W_input_hidden[0][0] + W_input_hidden[0][1]))+ (e2_hidden*W_input_hidden[1][1]/(W_input_hidden[1][0] + W_input_hidden[1][1]))\n",
    "\n",
    "print('e1_hidden :',e1_hidden)\n",
    "print('e2_hidden :',e2_hidden)\n",
    "print('e1_input :',e1_input)\n",
    "print('e2_input :',e2_input)"
   ]
  }
 ],
 "metadata": {
  "kernelspec": {
   "display_name": "Python 3",
   "language": "python",
   "name": "python3"
  },
  "language_info": {
   "codemirror_mode": {
    "name": "ipython",
    "version": 3
   },
   "file_extension": ".py",
   "mimetype": "text/x-python",
   "name": "python",
   "nbconvert_exporter": "python",
   "pygments_lexer": "ipython3",
   "version": "3.6.5"
  }
 },
 "nbformat": 4,
 "nbformat_minor": 2
}
