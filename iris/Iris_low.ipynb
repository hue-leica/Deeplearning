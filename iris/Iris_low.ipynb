{
 "cells": [
  {
   "cell_type": "code",
   "execution_count": 1,
   "metadata": {},
   "outputs": [],
   "source": [
    "import numpy \n",
    "# 시그모이드 함수를 사용하기 위한 scipy import\n",
    "import scipy.special\n",
    "# library for plotting arrays\n",
    "import matplotlib.pyplot as plt\n",
    "# 웹 상에서 바로 결과를 보기 위한 코드\n",
    "%matplotlib inline\n",
    "import imageio\n",
    "import glob"
   ]
  },
  {
   "cell_type": "code",
   "execution_count": 2,
   "metadata": {},
   "outputs": [],
   "source": [
    "# 신경망 네트워크 선언\n",
    "class neuralNetwork:\n",
    "    \n",
    "    \n",
    "    # 초기화\n",
    "    def __init__(self, inputnodes, hiddennodes, hiddennodes2, outputnodes, learningrate):\n",
    "        self.inodes = inputnodes\n",
    "        self.hnodes = hiddennodes\n",
    "        self.hnodes2 = hiddennodes2\n",
    "        self.onodes = outputnodes\n",
    "        \n",
    "        # 정교한 최초 가중치 설정을 위해 0을 기준으로 하고, 들어오는 노드 개수의 루트를 씌운 값의 표준편차를 가진 정규분포를 통해 구할 수 있다.\n",
    "        self.wih = numpy.random.normal(0.0, pow(self.inodes, -0.5), (self.hnodes, self.inodes))\n",
    "        self.whh = numpy.random.normal(0.0, pow(self.inodes, -0.5), (self.hnodes2, self.hnodes))\n",
    "        self.who = numpy.random.normal(0.0, pow(self.hnodes, -0.5), (self.onodes, self.hnodes2))\n",
    "\n",
    "        # 학습률\n",
    "        self.lr = learningrate\n",
    "        \n",
    "        # x라는 값을 받아서 scipy.special.explit(x)를 반환한다. (lambda는 인라인 함수 느낌)\n",
    "        self.activation_function = lambda x: scipy.special.expit(x)\n",
    "        \n",
    "        pass\n",
    "\n",
    "    \n",
    "    # 네트워크 학습\n",
    "    def train(self, inputs_list, targets_list):\n",
    "        # 입력 데이터를 최소 2차원으로 행렬로 변환하는 과정\n",
    "        inputs = numpy.array(inputs_list, ndmin=2).T\n",
    "        targets = numpy.array(targets_list, ndmin=2).T\n",
    "        \n",
    "        hidden_inputs = numpy.dot(self.wih, inputs)\n",
    "        hidden_outputs = self.activation_function(hidden_inputs)\n",
    "        \n",
    "        hidden2_inputs = numpy.dot(self.whh, hidden_outputs)\n",
    "        hidden2_outputs = self.activation_function(hidden2_inputs)\n",
    "        \n",
    "        final_inputs = numpy.dot(self.who, hidden2_outputs)\n",
    "        final_outputs = self.activation_function(final_inputs)\n",
    "        \n",
    "        # 오차 역전파 과정\n",
    "        output_errors = targets - final_outputs\n",
    "        hidden2_errors = numpy.dot(self.who.T, output_errors) \n",
    "        hidden_errors = numpy.dot(self.whh.T, hidden2_errors)\n",
    "        \n",
    "        # 가중치 업데이트\n",
    "        self.who += self.lr * numpy.dot((output_errors * final_outputs * (1.0 - final_outputs)), numpy.transpose(hidden2_outputs))\n",
    "        # 가중치 업데이트\n",
    "        self.whh += self.lr * numpy.dot((hidden2_errors * hidden2_outputs * (1.0 - hidden2_outputs)), numpy.transpose(hidden_outputs))\n",
    "        # 가중치 업데이트\n",
    "        self.wih += self.lr * numpy.dot((hidden_errors * hidden_outputs * (1.0 - hidden_outputs)), numpy.transpose(inputs))\n",
    "        \n",
    "        pass\n",
    "\n",
    "    \n",
    "    # 네트워크 질의 부분\n",
    "    def query(self, inputs_list):\n",
    "        inputs = numpy.array(inputs_list, ndmin=2).T\n",
    "        \n",
    "        hidden_inputs = numpy.dot(self.wih, inputs)\n",
    "        hidden_outputs = self.activation_function(hidden_inputs)\n",
    "\n",
    "        hidden2_inputs = numpy.dot(self.whh, hidden_outputs)\n",
    "        hidden2_outputs = self.activation_function(hidden2_inputs)\n",
    "        \n",
    "        final_inputs = numpy.dot(self.who, hidden2_outputs)\n",
    "        final_outputs = self.activation_function(final_inputs)\n",
    "        \n",
    "        return final_outputs"
   ]
  },
  {
   "cell_type": "code",
   "execution_count": 3,
   "metadata": {},
   "outputs": [],
   "source": [
    "\n",
    "input_nodes = 4\n",
    "hidden_nodes = 50\n",
    "hidden2_nodes=10\n",
    "output_nodes = 3\n",
    "\n",
    "learning_rate = 0.2\n",
    "\n",
    "n = neuralNetwork(input_nodes,hidden_nodes,hidden2_nodes,output_nodes, learning_rate)"
   ]
  },
  {
   "cell_type": "code",
   "execution_count": 4,
   "metadata": {},
   "outputs": [],
   "source": [
    "training_data_file = open(\"/Users/jungwook/Desktop/Jupyter_venv/iris/iris_train.csv\", 'r')\n",
    "training_data_list = training_data_file.readlines()[1:]\n",
    "training_data_file.close()"
   ]
  },
  {
   "cell_type": "code",
   "execution_count": 5,
   "metadata": {},
   "outputs": [],
   "source": [
    "# 네트워크 학습 과정\n",
    "\n",
    "# epochs is the number of times the training data set is used for training\n",
    "epochs = 150\n",
    "\n",
    "for e in range(epochs):\n",
    "    # go through all records in the training data set\n",
    "    for record in training_data_list:\n",
    "        # split the record by the ',' commas\n",
    "        all_values = record.split(',')\n",
    "        # scale and shift the inputs\n",
    "        inputs = numpy.asfarray(all_values[1:5])\n",
    "        # create the target output values (all 0.01, except the desired label which is 0.99)\n",
    "        targets = numpy.zeros(output_nodes) + 0.01\n",
    "        # all_values[0] is the target label for this record\n",
    "        targets[int(all_values[5])] = 0.99\n",
    "        n.train(inputs, targets)\n",
    "        pass\n",
    "    pass"
   ]
  },
  {
   "cell_type": "code",
   "execution_count": 6,
   "metadata": {},
   "outputs": [
    {
     "data": {
      "text/plain": [
       "['1,5.1,3.5,1.4,0.2,0\\n',\n",
       " '2,4.9,3,1.4,0.2,0\\n',\n",
       " '3,4.7,3.2,1.3,0.2,0\\n',\n",
       " '51,7,3.2,4.7,1.4,1\\n',\n",
       " '52,6.4,3.2,4.5,1.5,1\\n',\n",
       " '53,6.9,3.1,4.9,1.5,1\\n',\n",
       " '101,6.3,3.3,6,2.5,2\\n',\n",
       " '102,5.8,2.7,5.1,1.9,2\\n',\n",
       " '103,7.1,3,5.9,2.1,2\\n',\n",
       " '104,6.3,2.9,5.6,1.8,2\\n',\n",
       " '12,4.8,3.4,1.6,0.2,0\\n',\n",
       " '13,4.8,3,1.4,0.1,0\\n',\n",
       " '14,4.3,3,1.1,0.1,0\\n',\n",
       " '15,5.8,4,1.2,0.2,0\\n',\n",
       " '16,5.7,4.4,1.5,0.4,0\\n',\n",
       " '66,6.7,3.1,4.4,1.4,1\\n',\n",
       " '67,5.6,3,4.5,1.5,1\\n',\n",
       " '68,5.8,2.7,4.1,1,1\\n',\n",
       " '69,6.2,2.2,4.5,1.5,1\\n',\n",
       " '70,5.6,2.5,3.9,1.1,1\\n',\n",
       " '116,6.4,3.2,5.3,2.3,2\\n',\n",
       " '117,6.5,3,5.5,1.8,2\\n',\n",
       " '118,7.7,3.8,6.7,2.2,2\\n',\n",
       " '119,7.7,2.6,6.9,2.3,2\\n',\n",
       " '120,6,2.2,5,1.5,2\\n']"
      ]
     },
     "execution_count": 6,
     "metadata": {},
     "output_type": "execute_result"
    }
   ],
   "source": [
    "# mnist 테스트 데이터인 csv 파일을 리스트로 불러오기\n",
    "test_data_file = open(\"/Users/jungwook/Desktop/Jupyter_venv/iris/iris_test.csv\", 'r')\n",
    "test_data_list = test_data_file.readlines()[1:]\n",
    "test_data_file.close()\n",
    "test_data_list"
   ]
  },
  {
   "cell_type": "code",
   "execution_count": 7,
   "metadata": {
    "scrolled": false
   },
   "outputs": [
    {
     "name": "stdout",
     "output_type": "stream",
     "text": [
      "label is :  0\n",
      "correct label is :  0\n",
      "label is :  0\n",
      "correct label is :  0\n",
      "label is :  0\n",
      "correct label is :  0\n",
      "label is :  2\n",
      "correct label is :  1\n",
      "label is :  2\n",
      "correct label is :  1\n",
      "label is :  2\n",
      "correct label is :  1\n",
      "label is :  2\n",
      "correct label is :  2\n",
      "label is :  2\n",
      "correct label is :  2\n",
      "label is :  2\n",
      "correct label is :  2\n",
      "label is :  2\n",
      "correct label is :  2\n",
      "label is :  0\n",
      "correct label is :  0\n",
      "label is :  0\n",
      "correct label is :  0\n",
      "label is :  0\n",
      "correct label is :  0\n",
      "label is :  0\n",
      "correct label is :  0\n",
      "label is :  0\n",
      "correct label is :  0\n",
      "label is :  2\n",
      "correct label is :  1\n",
      "label is :  2\n",
      "correct label is :  1\n",
      "label is :  2\n",
      "correct label is :  1\n",
      "label is :  2\n",
      "correct label is :  1\n",
      "label is :  2\n",
      "correct label is :  1\n",
      "label is :  2\n",
      "correct label is :  2\n",
      "label is :  2\n",
      "correct label is :  2\n",
      "label is :  2\n",
      "correct label is :  2\n",
      "label is :  2\n",
      "correct label is :  2\n",
      "label is :  2\n",
      "correct label is :  2\n"
     ]
    }
   ],
   "source": [
    "# 신경망 테스트하기\n",
    "\n",
    "# 신경망의 성능의 지표가되는 성적표를 아무 값도 가지지 않도록 초기화\n",
    "scorecard = []\n",
    "\n",
    "# 테스트 데이터 모음 내의 모든 레코드 탐색\n",
    "for record in test_data_list:\n",
    "    # 레코드를 쉼표에 의해 분리\n",
    "    all_values = record.split(',')\n",
    "    # 정답은 첫 번째 값\n",
    "    correct_label = int(all_values[5])\n",
    "    # 입력 값의 범위와 값 조정\n",
    "    inputs = numpy.asfarray(all_values[1:5]) \n",
    "    # 신경망에 질의\n",
    "    outputs = n.query(inputs)\n",
    "    # 가장 높은 값의 인덱스는 레이블의 인덱스와 일치\n",
    "    label = numpy.argmax(outputs)\n",
    "    # 정답 또는 오답을 리스트에 추가\n",
    "    if (label == correct_label):\n",
    "        # 정답인 경우 성적표에 1을 더함\n",
    "        scorecard.append(1)\n",
    "        print(\"label is : \", label)\n",
    "        print(\"correct label is : \", correct_label)\n",
    "    else:\n",
    "        # 정답이 아닌 경우 성적표에 0을 더함\n",
    "        scorecard.append(0)\n",
    "        print(\"label is : \", label)\n",
    "        print(\"correct label is : \", correct_label)\n",
    "        pass\n",
    "    pass"
   ]
  },
  {
   "cell_type": "code",
   "execution_count": 8,
   "metadata": {
    "scrolled": true
   },
   "outputs": [
    {
     "name": "stdout",
     "output_type": "stream",
     "text": [
      "performance =  0.68\n"
     ]
    }
   ],
   "source": [
    "# 정답의 비율인 성적을 계산해 출력\n",
    "scorecard_array = numpy.asarray(scorecard)\n",
    "print (\"performance = \", scorecard_array.sum() / scorecard_array.size)"
   ]
  },
  {
   "cell_type": "code",
   "execution_count": 9,
   "metadata": {},
   "outputs": [
    {
     "data": {
      "image/png": "[encoded data removed]",
      "text/plain": [
       "<Figure size 432x288 with 1 Axes>"
      ]
     },
     "metadata": {},
     "output_type": "display_data"
    }
   ],
   "source": [
    "x1=[]\n",
    "y1=[]\n",
    "x2=[]\n",
    "y2=[]\n",
    "x3=[]\n",
    "y3=[]\n",
    "\n",
    "for row in training_data_list[0:]:\n",
    "    value = row.split(',')\n",
    "    if value[5] == \"0\\n\":\n",
    "        x1.append(value[3])\n",
    "        y1.append(value[4])\n",
    "    elif value[5] == \"1\\n\":\n",
    "        x2.append(value[3])\n",
    "        y2.append(value[4])\n",
    "    elif value[5] == \"2\\n\":\n",
    "        x3.append(value[3])\n",
    "        y3.append(value[4])\n",
    "        pass\n",
    "    value[5]\n",
    "    pass\n",
    "plt.plot(x1,y1,'o', label = 'setosa')\n",
    "plt.plot(x2,y2,'o',label = 'versicolor')\n",
    "plt.plot(x3,y3,'o',label='virginica')\n",
    "plt.legend()\n",
    "plt.xlabel('petal_length')\n",
    "plt.ylabel('petal_width')\n",
    "plt.show()"
   ]
  },
  {
   "cell_type": "code",
   "execution_count": null,
   "metadata": {},
   "outputs": [],
   "source": []
  }
 ],
 "metadata": {
  "kernelspec": {
   "display_name": "Python 3",
   "language": "python",
   "name": "python3"
  },
  "language_info": {
   "codemirror_mode": {
    "name": "ipython",
    "version": 3
   },
   "file_extension": ".py",
   "mimetype": "text/x-python",
   "name": "python",
   "nbconvert_exporter": "python",
   "pygments_lexer": "ipython3",
   "version": "3.6.5"
  }
 },
 "nbformat": 4,
 "nbformat_minor": 2
}
